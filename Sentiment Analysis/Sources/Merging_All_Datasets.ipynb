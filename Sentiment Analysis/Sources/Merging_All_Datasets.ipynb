{
 "cells": [
  {
   "cell_type": "code",
   "execution_count": 21,
   "metadata": {},
   "outputs": [],
   "source": [
    "import pandas as pd\n",
    "import os\n",
    "import glob\n",
    "\n",
    "# Delete old dataset to avoid overwriting\n",
    "my_file = \"Uber_Google_Play_Reviews.csv\"\n",
    "if os.path.exists(my_file):\n",
    "    os.remove(my_file)\n",
    "\n",
    "\n",
    "# Approach using map() function\n",
    "path = os.getcwd() + \"\\\\data\\\\\"\n",
    "df = pd.concat(map(pd.read_csv, glob.glob(path + \"*.csv\")))\n",
    "\n",
    "\n",
    "# Move big dataset outside\n",
    "path = path.replace(\"\\\\data\", \"\")\n",
    "\n",
    "df.to_csv(path + \"\\\\Uber_Google_Play_Reviews.csv\")"
   ]
  }
 ],
 "metadata": {
  "kernelspec": {
   "display_name": "Python 3",
   "language": "python",
   "name": "python3"
  },
  "language_info": {
   "codemirror_mode": {
    "name": "ipython",
    "version": 3
   },
   "file_extension": ".py",
   "mimetype": "text/x-python",
   "name": "python",
   "nbconvert_exporter": "python",
   "pygments_lexer": "ipython3",
   "version": "3.10.0"
  }
 },
 "nbformat": 4,
 "nbformat_minor": 2
}
